{
  "nbformat": 4,
  "nbformat_minor": 0,
  "metadata": {
    "colab": {
      "provenance": []
    },
    "kernelspec": {
      "name": "python3",
      "display_name": "Python 3"
    },
    "language_info": {
      "name": "python"
    }
  },
  "cells": [
    {
      "cell_type": "code",
      "execution_count": null,
      "metadata": {
        "colab": {
          "base_uri": "https://localhost:8080/"
        },
        "id": "IoTd3H5uxL1N",
        "outputId": "0556c50f-1f07-49cb-d6c4-4db3b24c422b"
      },
      "outputs": [
        {
          "output_type": "stream",
          "name": "stdout",
          "text": [
            "✅ Nuevo dataset con columna 'moho' generado y guardado en data_kaggle_moho.csv\n",
            "Number of rows where 'moho' = 1: 124\n"
          ]
        }
      ],
      "source": [
        "import pandas as pd\n",
        "data = pd.read_csv(\"data_kaggle.csv\")\n",
        "humedad = data[\"room_humidity\"].quantile(0.75)\n",
        "temp = data[\"room_temperature\"].quantile(0.50)\n",
        "\n",
        "def moho(row):\n",
        "    if row[\"room_humidity\"] >= humedad and row[\"room_temperature\"] >= temp:\n",
        "        return 1\n",
        "    else:\n",
        "        return 0\n",
        "data[\"moho\"] = data.apply(moho, axis=1)\n",
        "output_file = \"data_kaggle.csv\"\n",
        "data.to_csv(output_file, index=False)"
      ]
    }
  ]
}